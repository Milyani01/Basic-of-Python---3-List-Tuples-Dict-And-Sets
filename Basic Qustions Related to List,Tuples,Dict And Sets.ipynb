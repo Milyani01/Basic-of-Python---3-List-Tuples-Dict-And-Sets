{
 "cells": [
  {
   "cell_type": "markdown",
   "id": "e4a3884f",
   "metadata": {},
   "source": [
    "# 1.**Lists**"
   ]
  },
  {
   "cell_type": "markdown",
   "id": "2af103c2",
   "metadata": {},
   "source": [
    "1.Create an empty list and add five integers to it."
   ]
  },
  {
   "cell_type": "code",
   "execution_count": 1,
   "id": "5ac191b2",
   "metadata": {},
   "outputs": [
    {
     "data": {
      "text/plain": [
       "[10, 11, 12, 13, 11]"
      ]
     },
     "execution_count": 1,
     "metadata": {},
     "output_type": "execute_result"
    }
   ],
   "source": [
    "empty_list=[]\n",
    "empty_list.append(10)\n",
    "empty_list.append(11)\n",
    "empty_list.append(12)\n",
    "empty_list.append(13)\n",
    "empty_list.append(11)\n",
    "empty_list"
   ]
  },
  {
   "cell_type": "markdown",
   "id": "98a5a0d5",
   "metadata": {},
   "source": [
    "2.Declare a list of your favorite fruits and print the second fruit."
   ]
  },
  {
   "cell_type": "code",
   "execution_count": 2,
   "id": "961fb171",
   "metadata": {},
   "outputs": [
    {
     "data": {
      "text/plain": [
       "'banana'"
      ]
     },
     "execution_count": 2,
     "metadata": {},
     "output_type": "execute_result"
    }
   ],
   "source": [
    "fruit_list=['apple','banana','grapes','watermelon']\n",
    "fruit_list[1]"
   ]
  },
  {
   "cell_type": "markdown",
   "id": "72ab7f9b",
   "metadata": {},
   "source": [
    " 3. Add two lists together"
   ]
  },
  {
   "cell_type": "code",
   "execution_count": 3,
   "id": "2f0d40b4",
   "metadata": {},
   "outputs": [
    {
     "data": {
      "text/plain": [
       "[1, 2, 3, 4, 'apple', 'banana', 'grapes', 'watermelon']"
      ]
     },
     "execution_count": 3,
     "metadata": {},
     "output_type": "execute_result"
    }
   ],
   "source": [
    "number=[1,2,3,4]\n",
    "fruit_list=['apple','banana','grapes','watermelon']\n",
    "list_add=number+fruit_list\n",
    "list_add"
   ]
  },
  {
   "cell_type": "markdown",
   "id": "96fcd508",
   "metadata": {},
   "source": [
    "4.Remove an item from the list"
   ]
  },
  {
   "cell_type": "code",
   "execution_count": 4,
   "id": "0b2e4d76",
   "metadata": {},
   "outputs": [
    {
     "data": {
      "text/plain": [
       "['banana', 'grapes', 'watermelon']"
      ]
     },
     "execution_count": 4,
     "metadata": {},
     "output_type": "execute_result"
    }
   ],
   "source": [
    "fruit_list=['apple','banana','grapes','watermelon']\n",
    "fruit_list.remove('apple')\n",
    "fruit_list"
   ]
  },
  {
   "cell_type": "markdown",
   "id": "ab5a0663",
   "metadata": {},
   "source": [
    "5.Check if a specific element is present in the list.\n"
   ]
  },
  {
   "cell_type": "code",
   "execution_count": 5,
   "id": "e2fd23ff",
   "metadata": {},
   "outputs": [
    {
     "name": "stdout",
     "output_type": "stream",
     "text": [
      "apple is present in given list\n"
     ]
    }
   ],
   "source": [
    "fruit_list=['apple','banana','grapes','watermelon']\n",
    "find='apple'\n",
    "if find in fruit_list:\n",
    "    print(f'{find} is present in given list')\n",
    "else:\n",
    "    print(f'{find} is not present in given list')\n"
   ]
  },
  {
   "cell_type": "markdown",
   "id": "95d5ffeb",
   "metadata": {},
   "source": [
    "6.Reverse the order of elements in the list."
   ]
  },
  {
   "cell_type": "code",
   "execution_count": 6,
   "id": "01ad8f72",
   "metadata": {},
   "outputs": [
    {
     "data": {
      "text/plain": [
       "['watermelon', 'grapes', 'banana', 'apple']"
      ]
     },
     "execution_count": 6,
     "metadata": {},
     "output_type": "execute_result"
    }
   ],
   "source": [
    "fruit_list=['apple','banana','grapes','watermelon']\n",
    "fruit_list.reverse()\n",
    "fruit_list"
   ]
  },
  {
   "cell_type": "markdown",
   "id": "36619b23",
   "metadata": {},
   "source": [
    "7.Sort the list in ascending order."
   ]
  },
  {
   "cell_type": "code",
   "execution_count": 7,
   "id": "eb5913ad",
   "metadata": {},
   "outputs": [
    {
     "data": {
      "text/plain": [
       "[3, 4, 5, 6, 7]"
      ]
     },
     "execution_count": 7,
     "metadata": {},
     "output_type": "execute_result"
    }
   ],
   "source": [
    "number=[4,5,3,6,7]\n",
    "number.sort()\n",
    "number\n"
   ]
  },
  {
   "cell_type": "markdown",
   "id": "d97baa2e",
   "metadata": {},
   "source": [
    "# using comprehenser\n"
   ]
  },
  {
   "cell_type": "markdown",
   "id": "dab37fbf",
   "metadata": {},
   "source": [
    "8.Create a list of numbers and square each number using a list comprehension."
   ]
  },
  {
   "cell_type": "code",
   "execution_count": 8,
   "id": "504c4ebe",
   "metadata": {},
   "outputs": [
    {
     "data": {
      "text/plain": [
       "[16, 25, 49, 4, 25, 49]"
      ]
     },
     "execution_count": 8,
     "metadata": {},
     "output_type": "execute_result"
    }
   ],
   "source": [
    "Given_list=[4,5,7,2,5,7]\n",
    "squared_list=[num**2 for num in Given_list ]\n",
    "squared_list"
   ]
  },
  {
   "cell_type": "markdown",
   "id": "a35e6814",
   "metadata": {},
   "source": [
    "9.Create a list of even numbers from 1 to 10 using list comprehension."
   ]
  },
  {
   "cell_type": "code",
   "execution_count": 9,
   "id": "a0b65fd8",
   "metadata": {},
   "outputs": [
    {
     "data": {
      "text/plain": [
       "[2, 4, 6, 8, 10]"
      ]
     },
     "execution_count": 9,
     "metadata": {},
     "output_type": "execute_result"
    }
   ],
   "source": [
    "given_list=[1,2,3,4,5,6,7,8,9,10]\n",
    "even_num_list=[num for num in  given_list if (num%2)==0 ]\n",
    "even_num_list"
   ]
  },
  {
   "cell_type": "markdown",
   "id": "9dd7b0e5",
   "metadata": {},
   "source": [
    "10.Generate a list of square roots for numbers from 1 to 5 using list comprehension."
   ]
  },
  {
   "cell_type": "code",
   "execution_count": 10,
   "id": "d8b8fcec",
   "metadata": {},
   "outputs": [
    {
     "data": {
      "text/plain": [
       "[1.0, 1.4142135623730951, 1.7320508075688772, 2.0, 2.23606797749979]"
      ]
     },
     "execution_count": 10,
     "metadata": {},
     "output_type": "execute_result"
    }
   ],
   "source": [
    "import math\n",
    "list_square_root=[math.sqrt(num) for num in range(1,6)]\n",
    "list_square_root"
   ]
  },
  {
   "cell_type": "markdown",
   "id": "2e52ab7f",
   "metadata": {},
   "source": [
    "# 2. Tuples\n"
   ]
  },
  {
   "cell_type": "markdown",
   "id": "f351d880",
   "metadata": {},
   "source": [
    "1. Declare a tuple of your favorite colors."
   ]
  },
  {
   "cell_type": "code",
   "execution_count": 11,
   "id": "d5a467a0",
   "metadata": {},
   "outputs": [
    {
     "data": {
      "text/plain": [
       "tuple"
      ]
     },
     "execution_count": 11,
     "metadata": {},
     "output_type": "execute_result"
    }
   ],
   "source": [
    "fev_color=('green','pink','black','white')\n",
    "type(fev_color)"
   ]
  },
  {
   "cell_type": "markdown",
   "id": "3db2be24",
   "metadata": {},
   "source": [
    "2. Access and print the third item in the tuple."
   ]
  },
  {
   "cell_type": "code",
   "execution_count": 12,
   "id": "1adbbf19",
   "metadata": {},
   "outputs": [
    {
     "data": {
      "text/plain": [
       "'black'"
      ]
     },
     "execution_count": 12,
     "metadata": {},
     "output_type": "execute_result"
    }
   ],
   "source": [
    "fev_color=('green','pink','black','white')\n",
    "fev_color[2]"
   ]
  },
  {
   "cell_type": "markdown",
   "id": "8e72bcbc",
   "metadata": {},
   "source": [
    "3. Concatenate two tuples."
   ]
  },
  {
   "cell_type": "code",
   "execution_count": 13,
   "id": "615b0329",
   "metadata": {},
   "outputs": [
    {
     "data": {
      "text/plain": [
       "('green', 'pink', 'black', 'white', 1, 2, 3, 4, 5)"
      ]
     },
     "execution_count": 13,
     "metadata": {},
     "output_type": "execute_result"
    }
   ],
   "source": [
    "fev_color=('green','pink','black','white')\n",
    "number=(1,2,3,4,5)\n",
    "concat=fev_color+number\n",
    "concat"
   ]
  },
  {
   "cell_type": "markdown",
   "id": "bd49dd51",
   "metadata": {},
   "source": [
    "4. Attempt to modify an item in the tuple and observe the result."
   ]
  },
  {
   "cell_type": "code",
   "execution_count": 14,
   "id": "5aa30c60",
   "metadata": {},
   "outputs": [
    {
     "ename": "TypeError",
     "evalue": "'tuple' object does not support item assignment",
     "output_type": "error",
     "traceback": [
      "\u001b[1;31m---------------------------------------------------------------------------\u001b[0m",
      "\u001b[1;31mTypeError\u001b[0m                                 Traceback (most recent call last)",
      "Cell \u001b[1;32mIn[14], line 2\u001b[0m\n\u001b[0;32m      1\u001b[0m fev_color\u001b[38;5;241m=\u001b[39m(\u001b[38;5;124m'\u001b[39m\u001b[38;5;124mgreen\u001b[39m\u001b[38;5;124m'\u001b[39m,\u001b[38;5;124m'\u001b[39m\u001b[38;5;124mpink\u001b[39m\u001b[38;5;124m'\u001b[39m,\u001b[38;5;124m'\u001b[39m\u001b[38;5;124mblack\u001b[39m\u001b[38;5;124m'\u001b[39m,\u001b[38;5;124m'\u001b[39m\u001b[38;5;124mwhite\u001b[39m\u001b[38;5;124m'\u001b[39m)\n\u001b[1;32m----> 2\u001b[0m fev_color[\u001b[38;5;241m2\u001b[39m]\u001b[38;5;241m=\u001b[39m\u001b[38;5;124m'\u001b[39m\u001b[38;5;124mred\u001b[39m\u001b[38;5;124m'\u001b[39m                       \n\u001b[0;32m      3\u001b[0m fev_color\n",
      "\u001b[1;31mTypeError\u001b[0m: 'tuple' object does not support item assignment"
     ]
    }
   ],
   "source": [
    "fev_color=('green','pink','black','white')\n",
    "fev_color[2]='red'                       \n",
    "fev_color\n",
    "#From this we can uderstand that tuples are immutable ,we cant manipulate or altered the data in tuples."
   ]
  },
  {
   "cell_type": "markdown",
   "id": "bb5116f3",
   "metadata": {},
   "source": [
    "5. Create a tuple with a single element."
   ]
  },
  {
   "cell_type": "code",
   "execution_count": 15,
   "id": "ebfd0b51",
   "metadata": {},
   "outputs": [
    {
     "data": {
      "text/plain": [
       "(1,)"
      ]
     },
     "execution_count": 15,
     "metadata": {},
     "output_type": "execute_result"
    }
   ],
   "source": [
    "tuple_with_single_element=(1,)\n",
    "tuple_with_single_element"
   ]
  },
  {
   "cell_type": "markdown",
   "id": "792a3487",
   "metadata": {},
   "source": [
    "6. Unpack the elements of a tuple into separate variables."
   ]
  },
  {
   "cell_type": "code",
   "execution_count": 16,
   "id": "b31dd09b",
   "metadata": {},
   "outputs": [
    {
     "name": "stdout",
     "output_type": "stream",
     "text": [
      "green pink black white\n"
     ]
    }
   ],
   "source": [
    "fev_color=('green','pink','black','white')\n",
    "color1,color2,color3,color4=fev_color\n",
    "print(color1,color2,color3,color4)\n"
   ]
  },
  {
   "cell_type": "markdown",
   "id": "f3acb34b",
   "metadata": {},
   "source": [
    "7. Check if an item is present in the tuple."
   ]
  },
  {
   "cell_type": "code",
   "execution_count": 17,
   "id": "e3d75cdd",
   "metadata": {},
   "outputs": [
    {
     "name": "stdout",
     "output_type": "stream",
     "text": [
      "green is present\n"
     ]
    }
   ],
   "source": [
    "fev_color=('green','pink','black','white')\n",
    "color='green'\n",
    "if color in fev_color:\n",
    "    print(f'{color} is present')\n",
    "else:\n",
    "     print(f'{color} is not present')"
   ]
  },
  {
   "cell_type": "markdown",
   "id": "df6c3ff6",
   "metadata": {},
   "source": [
    "8. Create a tuple with elements of different data types (int, float, string) and print each element."
   ]
  },
  {
   "cell_type": "code",
   "execution_count": 18,
   "id": "9ed7cc9b",
   "metadata": {},
   "outputs": [
    {
     "name": "stdout",
     "output_type": "stream",
     "text": [
      "20\n",
      "Amit\n",
      "True\n",
      "2.4\n"
     ]
    }
   ],
   "source": [
    "elements_with_different_datatypes=(20,\"Amit\",True,2.4)\n",
    "element1,element2,element3,element4=elements_with_different_datatypes\n",
    "print(element1)\n",
    "print(element2)\n",
    "print(element3)\n",
    "print(element4)"
   ]
  },
  {
   "cell_type": "markdown",
   "id": "ded5c519",
   "metadata": {},
   "source": [
    "9. Find the index of a specific element in the tuple"
   ]
  },
  {
   "cell_type": "code",
   "execution_count": 19,
   "id": "75a95da2",
   "metadata": {},
   "outputs": [
    {
     "data": {
      "text/plain": [
       "2"
      ]
     },
     "execution_count": 19,
     "metadata": {},
     "output_type": "execute_result"
    }
   ],
   "source": [
    "elements=(2,4,55,6,8,9,2,4,5)\n",
    "elements.index(55)"
   ]
  },
  {
   "cell_type": "markdown",
   "id": "1a315812",
   "metadata": {},
   "source": [
    "10. Create a tuple of numbers from 1 to 5 and print a slice of the tuple"
   ]
  },
  {
   "cell_type": "code",
   "execution_count": 20,
   "id": "61d617c3",
   "metadata": {},
   "outputs": [
    {
     "data": {
      "text/plain": [
       "(1, 2)"
      ]
     },
     "execution_count": 20,
     "metadata": {},
     "output_type": "execute_result"
    }
   ],
   "source": [
    "tuples=(1,2,3,4,5)\n",
    "tuples[0:2]"
   ]
  },
  {
   "cell_type": "markdown",
   "id": "6518cb59",
   "metadata": {},
   "source": [
    "11. Create a tuple with repeated elements and count the occurrences of a specific element."
   ]
  },
  {
   "cell_type": "code",
   "execution_count": 21,
   "id": "d931a734",
   "metadata": {},
   "outputs": [
    {
     "data": {
      "text/plain": [
       "4"
      ]
     },
     "execution_count": 21,
     "metadata": {},
     "output_type": "execute_result"
    }
   ],
   "source": [
    "tuple_with_repeated_element=(10,20,10,20,4,10,5,10,3)\n",
    "tuple_with_repeated_element.count(10)\n"
   ]
  },
  {
   "cell_type": "markdown",
   "id": "d6f20af1",
   "metadata": {},
   "source": [
    " 12. Create a list of colors and convert it into a tuple"
   ]
  },
  {
   "cell_type": "code",
   "execution_count": 22,
   "id": "edd97ce1",
   "metadata": {},
   "outputs": [
    {
     "data": {
      "text/plain": [
       "tuple"
      ]
     },
     "execution_count": 22,
     "metadata": {},
     "output_type": "execute_result"
    }
   ],
   "source": [
    "list_of_color=['green','pink','black','white']\n",
    "converting_into_tuples=tuple(list_of_color)\n",
    "type(converting_into_tuples)"
   ]
  },
  {
   "cell_type": "markdown",
   "id": "29b7a2df",
   "metadata": {},
   "source": [
    "13. Create a tuple of names and sort them alphabetically."
   ]
  },
  {
   "cell_type": "code",
   "execution_count": 23,
   "id": "0adaa27f",
   "metadata": {},
   "outputs": [
    {
     "data": {
      "text/plain": [
       "('anushka', 'kalyani', 'milyani', 'shreya', 'simran')"
      ]
     },
     "execution_count": 23,
     "metadata": {},
     "output_type": "execute_result"
    }
   ],
   "source": [
    "names=('milyani','kalyani','shreya','simran','anushka')\n",
    "tuple(sorted(names))\n"
   ]
  },
  {
   "cell_type": "markdown",
   "id": "574070f2",
   "metadata": {},
   "source": [
    "# 3. Dictionaries"
   ]
  },
  {
   "cell_type": "markdown",
   "id": "5405ad0c",
   "metadata": {},
   "source": [
    "1. Create a dictionary representing your contact information (name, email, phone number).\n"
   ]
  },
  {
   "cell_type": "code",
   "execution_count": 24,
   "id": "d8c72bfa",
   "metadata": {},
   "outputs": [
    {
     "data": {
      "text/plain": [
       "{'name': 'milyani',\n",
       " 'email': 'minnupatil1432@gmail.com',\n",
       " 'phone number': 7862526839}"
      ]
     },
     "execution_count": 24,
     "metadata": {},
     "output_type": "execute_result"
    }
   ],
   "source": [
    "\n",
    "contact_info={'name':'milyani','email':'minnupatil1432@gmail.com','phone number':7862526839}\n",
    "\n",
    "contact_info"
   ]
  },
  {
   "cell_type": "markdown",
   "id": "96c61325",
   "metadata": {},
   "source": [
    "2. Print just the keys of the dictionary."
   ]
  },
  {
   "cell_type": "code",
   "execution_count": 25,
   "id": "4c9f8131",
   "metadata": {},
   "outputs": [
    {
     "data": {
      "text/plain": [
       "dict_keys(['name', 'email', 'phone number'])"
      ]
     },
     "execution_count": 25,
     "metadata": {},
     "output_type": "execute_result"
    }
   ],
   "source": [
    "contact_info={'name':'milyani','email':'minnupatil1432@gmail.com','phone number':7862526839}\n",
    "contact_info.keys()"
   ]
  },
  {
   "cell_type": "markdown",
   "id": "f333b971",
   "metadata": {},
   "source": [
    "3. Print just the values of the dictionary."
   ]
  },
  {
   "cell_type": "code",
   "execution_count": 26,
   "id": "bdab2467",
   "metadata": {},
   "outputs": [
    {
     "data": {
      "text/plain": [
       "dict_values(['milyani', 'minnupatil1432@gmail.com', 7862526839])"
      ]
     },
     "execution_count": 26,
     "metadata": {},
     "output_type": "execute_result"
    }
   ],
   "source": [
    "contact_info={'name':'milyani','email':'minnupatil1432@gmail.com','phone number':7862526839}\n",
    "contact_info.values()"
   ]
  },
  {
   "cell_type": "markdown",
   "id": "f54d675d",
   "metadata": {},
   "source": [
    "4. Access and print a specific value from the dictionary."
   ]
  },
  {
   "cell_type": "code",
   "execution_count": 27,
   "id": "c9282ed7",
   "metadata": {},
   "outputs": [
    {
     "data": {
      "text/plain": [
       "'minnupatil1432@gmail.com'"
      ]
     },
     "execution_count": 27,
     "metadata": {},
     "output_type": "execute_result"
    }
   ],
   "source": [
    "contact_info={'name':'milyani','email':'minnupatil1432@gmail.com','phone number':7862526839}\n",
    "contact_info.get('email')"
   ]
  },
  {
   "cell_type": "markdown",
   "id": "d58837a5",
   "metadata": {},
   "source": [
    "5. Update your phone number in the dictionary."
   ]
  },
  {
   "cell_type": "code",
   "execution_count": 28,
   "id": "5fc2b9a8",
   "metadata": {},
   "outputs": [
    {
     "data": {
      "text/plain": [
       "{'name': 'milyani',\n",
       " 'email': 'minnupatil1432@gmail.com',\n",
       " 'phone number': 7862526839}"
      ]
     },
     "execution_count": 28,
     "metadata": {},
     "output_type": "execute_result"
    }
   ],
   "source": [
    "contact_info={'name':'milyani','email':'minnupatil1432@gmail.com'}\n",
    "contact_info.update({'phone number':7862526839})\n",
    "contact_info"
   ]
  },
  {
   "cell_type": "markdown",
   "id": "b2935f1f",
   "metadata": {},
   "source": [
    "6. Remove an item from the dictionary."
   ]
  },
  {
   "cell_type": "code",
   "execution_count": 29,
   "id": "5cd997b9",
   "metadata": {},
   "outputs": [
    {
     "data": {
      "text/plain": [
       "{'email': 'minnupatil1432@gmail.com', 'phone number': 7862526839}"
      ]
     },
     "execution_count": 29,
     "metadata": {},
     "output_type": "execute_result"
    }
   ],
   "source": [
    "contact_info={'name':'milyani','email':'minnupatil1432@gmail.com','phone number':7862526839}\n",
    "contact_info.pop(\"name\")\n",
    "contact_info"
   ]
  },
  {
   "cell_type": "markdown",
   "id": "0fd13ce9",
   "metadata": {},
   "source": [
    "7. Check if a specific key is present in the dictionary."
   ]
  },
  {
   "cell_type": "code",
   "execution_count": 30,
   "id": "3264f35d",
   "metadata": {},
   "outputs": [
    {
     "name": "stdout",
     "output_type": "stream",
     "text": [
      "name key is present in given list\n"
     ]
    }
   ],
   "source": [
    "contact_info={'name':'milyani','email':'minnupatil1432@gmail.com','phone number':7862526839}\n",
    "find_key='name'\n",
    "if find_key in contact_info:\n",
    "    print(f'{find_key} key is present in given list')\n",
    "else:\n",
    "    print(f'{find_key} key is not present in given list')"
   ]
  },
  {
   "cell_type": "markdown",
   "id": "b1af0fc8",
   "metadata": {},
   "source": [
    "8. Loop through the dictionary and print key-value pairs."
   ]
  },
  {
   "cell_type": "code",
   "execution_count": 31,
   "id": "07d9f078",
   "metadata": {},
   "outputs": [
    {
     "name": "stdout",
     "output_type": "stream",
     "text": [
      "name:milyani\n",
      "email:minnupatil1432@gmail.com\n",
      "phone number:7862526839\n"
     ]
    }
   ],
   "source": [
    "contact_info={'name':'milyani','email':'minnupatil1432@gmail.com','phone number':7862526839}\n",
    "for key,value in contact_info.items():\n",
    "    print(f'{key}:{value}')"
   ]
  },
  {
   "cell_type": "markdown",
   "id": "6de06090",
   "metadata": {},
   "source": [
    "9. Create an empty dictionary and add three key-value pairs to it."
   ]
  },
  {
   "cell_type": "code",
   "execution_count": 32,
   "id": "db944eee",
   "metadata": {},
   "outputs": [
    {
     "data": {
      "text/plain": [
       "{'fruit': 'apple', 'vagetable': 'tomato', 'number': 40}"
      ]
     },
     "execution_count": 32,
     "metadata": {},
     "output_type": "execute_result"
    }
   ],
   "source": [
    "empty_dict={}\n",
    "empty_dict['fruit']='apple'\n",
    "empty_dict['vagetable']='tomato'\n",
    "empty_dict['number']=40\n",
    "\n",
    "empty_dict"
   ]
  },
  {
   "cell_type": "markdown",
   "id": "9a36c71c",
   "metadata": {},
   "source": [
    "10. Create a dictionary with some key-value pairs. Use a method to clear all items from the dictionary."
   ]
  },
  {
   "cell_type": "code",
   "execution_count": 33,
   "id": "347f6d48",
   "metadata": {},
   "outputs": [
    {
     "data": {
      "text/plain": [
       "{}"
      ]
     },
     "execution_count": 33,
     "metadata": {},
     "output_type": "execute_result"
    }
   ],
   "source": [
    "contact_info={'name':'milyani','email':'minnupatil1432@gmail.com','phone number':7862526839}\n",
    "contact_info.clear()\n",
    "contact_info"
   ]
  },
  {
   "cell_type": "markdown",
   "id": "3b755ed1",
   "metadata": {},
   "source": [
    "# 4. Sets"
   ]
  },
  {
   "cell_type": "markdown",
   "id": "85a01713",
   "metadata": {},
   "source": [
    "1. Create two sets of numbers and perform set union and intersection operations."
   ]
  },
  {
   "cell_type": "code",
   "execution_count": 34,
   "id": "52d25a11",
   "metadata": {},
   "outputs": [
    {
     "data": {
      "text/plain": [
       "{1, 2, 3, 4, 5, 6, 7, 8, 9, 10}"
      ]
     },
     "execution_count": 34,
     "metadata": {},
     "output_type": "execute_result"
    }
   ],
   "source": [
    "set1={1,3,5,6,8,9,10}\n",
    "set2={3,5,7,9,4,3,2}\n",
    "#using union()\n",
    "union=set1.union(set2)\n",
    "union\n",
    "#using union operator\n",
    "union=set1 |set2\n",
    "union"
   ]
  },
  {
   "cell_type": "code",
   "execution_count": 35,
   "id": "07ac27d2",
   "metadata": {},
   "outputs": [
    {
     "data": {
      "text/plain": [
       "{3, 5, 9}"
      ]
     },
     "execution_count": 35,
     "metadata": {},
     "output_type": "execute_result"
    }
   ],
   "source": [
    "#Intersection of two sets\n",
    "set1={1,3,5,6,8,9,10}\n",
    "set2={3,5,7,9,4,3,2}\n",
    "intersection=set1.intersection(set2)\n",
    "intersection"
   ]
  },
  {
   "cell_type": "markdown",
   "id": "43635be1",
   "metadata": {},
   "source": [
    "2. Add a new element to one of the sets."
   ]
  },
  {
   "cell_type": "code",
   "execution_count": 36,
   "id": "ee8778a5",
   "metadata": {},
   "outputs": [
    {
     "data": {
      "text/plain": [
       "{1, 2, 3, 5, 6, 8, 9, 10, 11}"
      ]
     },
     "execution_count": 36,
     "metadata": {},
     "output_type": "execute_result"
    }
   ],
   "source": [
    "set1={11,1,3,5,6,8,9,10}\n",
    "set2={3,5,7,9,4,3,2}\n",
    "set1.add(2)\n",
    "set1"
   ]
  },
  {
   "cell_type": "markdown",
   "id": "ff7309fe",
   "metadata": {},
   "source": [
    "3. Remove an element from one of the sets."
   ]
  },
  {
   "cell_type": "code",
   "execution_count": 37,
   "id": "3f155866",
   "metadata": {},
   "outputs": [
    {
     "data": {
      "text/plain": [
       "{1, 3, 5, 6, 9, 10, 11}"
      ]
     },
     "execution_count": 37,
     "metadata": {},
     "output_type": "execute_result"
    }
   ],
   "source": [
    "set1={11,1,3,5,6,8,9,10}\n",
    "set2={3,5,7,9,4,3,2}\n",
    "set1.remove(8)\n",
    "set1"
   ]
  },
  {
   "cell_type": "markdown",
   "id": "a12e004f",
   "metadata": {},
   "source": [
    "4. Check if a specific element is present in a set."
   ]
  },
  {
   "cell_type": "code",
   "execution_count": 38,
   "id": "14039073",
   "metadata": {},
   "outputs": [
    {
     "name": "stdout",
     "output_type": "stream",
     "text": [
      "100 is not present\n"
     ]
    }
   ],
   "source": [
    "set1={11,1,3,5,6,8,9,10}\n",
    "item=100\n",
    "if item in set1:\n",
    "    print(f\"{item} is present\")\n",
    "else:\n",
    "    print(f\"{item} is not present\")"
   ]
  },
  {
   "cell_type": "markdown",
   "id": "138f68a7",
   "metadata": {},
   "source": [
    "5. Create a set from a list."
   ]
  },
  {
   "cell_type": "code",
   "execution_count": 39,
   "id": "4c1c94a1",
   "metadata": {},
   "outputs": [
    {
     "data": {
      "text/plain": [
       "set"
      ]
     },
     "execution_count": 39,
     "metadata": {},
     "output_type": "execute_result"
    }
   ],
   "source": [
    "list1=[\"richa\",\"priya\",\"gopi\",\"billu\"]\n",
    "set_from_list=set(list1)\n",
    "type(set_from_list)\n"
   ]
  },
  {
   "cell_type": "markdown",
   "id": "755409bb",
   "metadata": {},
   "source": [
    "6. Clear all elements from a set."
   ]
  },
  {
   "cell_type": "code",
   "execution_count": 40,
   "id": "56666c37",
   "metadata": {},
   "outputs": [
    {
     "data": {
      "text/plain": [
       "set()"
      ]
     },
     "execution_count": 40,
     "metadata": {},
     "output_type": "execute_result"
    }
   ],
   "source": [
    "set1={11,1,3,5,6,8,9,10}\n",
    "set1.clear()\n",
    "set1"
   ]
  },
  {
   "cell_type": "markdown",
   "id": "500a0739",
   "metadata": {},
   "source": [
    "7. Check if one set is a subset of another."
   ]
  },
  {
   "cell_type": "code",
   "execution_count": 41,
   "id": "4d492f3c",
   "metadata": {},
   "outputs": [
    {
     "data": {
      "text/plain": [
       "False"
      ]
     },
     "execution_count": 41,
     "metadata": {},
     "output_type": "execute_result"
    }
   ],
   "source": [
    "set1={11,1,3,5,6,8,9,10}\n",
    "set2={3,5,7,9,4,3,2}\n",
    "checking=set2.issubset(set1)\n",
    "checking"
   ]
  },
  {
   "cell_type": "markdown",
   "id": "1fec6867",
   "metadata": {},
   "source": [
    "8. Generate a set of squares for numbers from 1 to 5 using set comprehension"
   ]
  },
  {
   "cell_type": "code",
   "execution_count": 42,
   "id": "4822b755",
   "metadata": {},
   "outputs": [
    {
     "data": {
      "text/plain": [
       "{1, 4, 9, 16, 25}"
      ]
     },
     "execution_count": 42,
     "metadata": {},
     "output_type": "execute_result"
    }
   ],
   "source": [
    "square={num**2 for num in range(1,6)}\n",
    "square"
   ]
  },
  {
   "cell_type": "markdown",
   "id": "b3657fb6",
   "metadata": {},
   "source": [
    "9. Create an empty set."
   ]
  },
  {
   "cell_type": "code",
   "execution_count": 43,
   "id": "ae0096eb",
   "metadata": {},
   "outputs": [
    {
     "data": {
      "text/plain": [
       "{}"
      ]
     },
     "execution_count": 43,
     "metadata": {},
     "output_type": "execute_result"
    }
   ],
   "source": [
    "empty_set={}\n",
    "empty_set"
   ]
  },
  {
   "cell_type": "code",
   "execution_count": null,
   "id": "bbaedd86",
   "metadata": {},
   "outputs": [],
   "source": []
  }
 ],
 "metadata": {
  "kernelspec": {
   "display_name": "Python 3 (ipykernel)",
   "language": "python",
   "name": "python3"
  },
  "language_info": {
   "codemirror_mode": {
    "name": "ipython",
    "version": 3
   },
   "file_extension": ".py",
   "mimetype": "text/x-python",
   "name": "python",
   "nbconvert_exporter": "python",
   "pygments_lexer": "ipython3",
   "version": "3.11.5"
  }
 },
 "nbformat": 4,
 "nbformat_minor": 5
}
